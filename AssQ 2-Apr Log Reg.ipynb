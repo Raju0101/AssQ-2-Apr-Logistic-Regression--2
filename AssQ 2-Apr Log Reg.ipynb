{
 "cells": [
  {
   "cell_type": "markdown",
   "id": "ed8e170b-2e6d-42f0-a655-de792609e95f",
   "metadata": {},
   "source": [
    "# AssQ 2- Apr Logistic Regression"
   ]
  },
  {
   "cell_type": "code",
   "execution_count": null,
   "id": "215071f2-3799-4eea-8038-f2f8f7833588",
   "metadata": {},
   "outputs": [],
   "source": [
    "Q1. What is the purpose of grid search cv in machine learning, and how does it work?"
   ]
  },
  {
   "cell_type": "code",
   "execution_count": null,
   "id": "ae0d4086-54f6-4c7b-b40e-93d9384b13cb",
   "metadata": {},
   "outputs": [],
   "source": [
    "GridSearchCV is a technique for finding the optimal parameter values from a given set of parameters in a grid. \n",
    "It's essentially a cross-validation technique. The model as well as the parameters must be entered. \n",
    "After extracting the best parameter values, predictions are made.\n",
    "\n",
    "Grid Search cross-validation is a technique to select the best of the machine learning model,\n",
    "parameterized by a grid of hyperparameters.\n",
    "Scikit-Learn library comes with grid search cross-validation implementation.\n",
    "\n",
    "How does it work? \n",
    "One method is to try out different values and then pick the value that gives the best score. \n",
    "This technique is known as a grid search. If we had to select the values for two or more parameters,\n",
    "we would evaluate all combinations of the sets of values thus forming a grid of values.\n",
    "\n",
    "How do you use grid search CV for Regression?\n",
    "Step 1 - Import the library - GridSearchCv. ...\n",
    "Step 2 - Setup the Data. ...\n",
    "Step 3 - Model and its Parameter. ...\n",
    "Step 4 - Using GridSearchCV and Printing Results.\n",
    "\n",
    "How to find optimal parameters using GridSearchCV in ML in python\n",
    "Imports the necessary libraries.\n",
    "Loads the dataset and performs train_test_split.\n",
    "Applies GradientBoostingClassifier and evaluates the result.\n",
    "Hyperparameter tunes the GBR Classifier model using GridSearchCV."
   ]
  },
  {
   "cell_type": "code",
   "execution_count": null,
   "id": "56cd7952-3777-4343-a547-be56438dbf53",
   "metadata": {},
   "outputs": [],
   "source": []
  },
  {
   "cell_type": "code",
   "execution_count": null,
   "id": "cfdee40c-a115-4653-80c6-90612f3926ea",
   "metadata": {},
   "outputs": [],
   "source": [
    "Q2. Describe the difference between grid search cv and randomize search cv, and when might you choose \n",
    "one over the other?"
   ]
  },
  {
   "cell_type": "code",
   "execution_count": null,
   "id": "492cad17-c9d1-4599-9252-17aa7e2d7c79",
   "metadata": {},
   "outputs": [],
   "source": [
    "In Grid Search, we try every combination of a preset list of values of the hyper-parameters \n",
    "and choose the best combination based on the cross-validation score.\n",
    "Random search tries random combinations of a range of values (we have to define the number iterations).\n",
    "\n",
    "The key difference from grid search is in random search, not all the values are tested and \n",
    "values tested are selected at random. For example, if there are 500 values in the distribution and \n",
    "if we input n_iter=50 then random search will randomly sample 50 values to test.\n",
    "grid search will try every combination of a preset listvalues to test.\n",
    "\n",
    "GridSearchCV on the other hand, are widely different. Depending on the n_iter chosen,\n",
    "RandomSearchCV can be two, three, four times faster than GridSearchCV. However, the higher the n_iter chosen,\n",
    "the lower will be the speed of RandomSearchCV and the closer the algorithm will be to GridSearchCV.\n",
    "\n",
    "when might you choose one over the other?\n",
    "So all the permutations of the hyper parameters will generate a huge number of models and as the data \n",
    "size increases the computational speed drastically drops. \n",
    "This is why data scientists prefer RandomizedSearchCV over GridSearchCV while dealing with huge data"
   ]
  },
  {
   "cell_type": "code",
   "execution_count": null,
   "id": "461a0c45-0efc-43e7-bada-f44a14fbc526",
   "metadata": {},
   "outputs": [],
   "source": []
  },
  {
   "cell_type": "code",
   "execution_count": null,
   "id": "88be8c27-b19f-4072-bfab-4457a9011e4c",
   "metadata": {},
   "outputs": [],
   "source": [
    "Q3. What is data leakage, and why is it a problem in machine learning? Provide an example."
   ]
  },
  {
   "cell_type": "code",
   "execution_count": null,
   "id": "5588e1f8-e44a-4449-bd33-32aad784bb13",
   "metadata": {},
   "outputs": [],
   "source": [
    "In simple words, data leakage can be defined as:\n",
    "\"A scenario when ML model already has information of test data in training data, \n",
    "but this information would not be available at the time of prediction, called data leakage.\n",
    "It causes high performance while training set, but perform poorly in deployment or production.\n",
    "\n",
    "The most fundamental example of data leakage would be if the true label of a dataset was \n",
    "included as a characteristic in the model.\n",
    "If this object is classified as an apple, the algorithm would learn to predict that it is an apple.\n",
    "\n",
    "Data leakage is one of the major problems in machine learning which occurs when the data that\n",
    "we are using to train an ML algorithm has the information the model is trying to predict.\n",
    "It is a situation that causes unpredictable and bad prediction outcomes after model deployment."
   ]
  },
  {
   "cell_type": "code",
   "execution_count": null,
   "id": "e9d7e0d8-d568-4a27-9f24-1005566d6b6b",
   "metadata": {},
   "outputs": [],
   "source": []
  },
  {
   "cell_type": "code",
   "execution_count": null,
   "id": "22093342-65b5-4e70-9e7e-750f43490f4d",
   "metadata": {},
   "outputs": [],
   "source": [
    "Q4. How can you prevent data leakage when building a machine learning model?"
   ]
  },
  {
   "cell_type": "code",
   "execution_count": null,
   "id": "68eab391-52f5-48f3-8a72-458b4d5a115b",
   "metadata": {},
   "outputs": [],
   "source": [
    "One of the best ways to get rid of data leakage is to perform k-fold cross validation \n",
    "where the overall data is divided into k parts. After dividing into k parts,\n",
    "we use each part as the cross-validation data and the remaining as training data.\n",
    "\n",
    "Information (or data) leakage is undesired behavior in machine learning during\n",
    "which information that should not be in the training data inflates the model's ability to learn, \n",
    "causing poor performance at prediction time or in production. \n",
    "Models subject to information leakage do not generalize well to unseen data."
   ]
  },
  {
   "cell_type": "code",
   "execution_count": null,
   "id": "f93812d5-fbbc-44de-9989-e1766fe47e0b",
   "metadata": {},
   "outputs": [],
   "source": []
  },
  {
   "cell_type": "code",
   "execution_count": null,
   "id": "a4359a8b-0522-4e69-aecf-e490bc6b2606",
   "metadata": {},
   "outputs": [],
   "source": [
    "Q5. What is a confusion matrix, and what does it tell you about the performance of a classification model?"
   ]
  },
  {
   "cell_type": "code",
   "execution_count": null,
   "id": "2020f816-aa0c-4802-92e6-5622d41400b3",
   "metadata": {},
   "outputs": [],
   "source": [
    "A Confusion matrix is an N x N matrix used for evaluating the performance of a classification model,\n",
    "where N is the number of target classes. The matrix compares the actual target values with \n",
    "those predicted by the machine learning model.\n",
    "A good model is one which has high TP and TN rates, while low FP and FN rates.\n",
    "\n",
    "A confusion matrix represents the prediction summary in matrix form. It shows how many prediction\n",
    "are correct and incorrect per class. \n",
    "It helps in understanding the classes that are being confused by model as other class.\n",
    "\n",
    "A confusion matrix, also known as an error matrix, is a summarized table used to assess\n",
    "the performance of a classification model.\n",
    "The number of correct and incorrect predictions are summarized with count values and broken down by each class.\n",
    "\n",
    "A confusion matrix is a technique for summarizing the performance of a classification algorithm.\n",
    "Classification accuracy alone can be misleading \n",
    "if you have an unequal number of observations in each class or if you have more than two classes in your dataset."
   ]
  },
  {
   "cell_type": "code",
   "execution_count": null,
   "id": "692dfeff-f822-439b-9ec2-80cc46c104ed",
   "metadata": {},
   "outputs": [],
   "source": []
  },
  {
   "cell_type": "code",
   "execution_count": null,
   "id": "a57d6c50-364c-4d1b-b196-69f1240db2a0",
   "metadata": {},
   "outputs": [],
   "source": [
    "Q6. Explain the difference between precision and recall in the context of a confusion matrix."
   ]
  },
  {
   "cell_type": "code",
   "execution_count": null,
   "id": "d9f82d77-facd-4d4c-815e-dd415bdc40c8",
   "metadata": {},
   "outputs": [],
   "source": [
    "The precision is the proportion of relevant results in the list of all returned search results. \n",
    "The recall is the ratio of the relevant results returned by the search engine to\n",
    "the total number of the relevant results that could have been returned.\n",
    "\n",
    "Precision (also called positive predictive value) is the fraction of relevant instances among the retrieved instances,\n",
    "while recall (also known as sensitivity) is the fraction of relevant instances that were retrieved.\n",
    "Both precision and recall are therefore based on relevance.\n",
    "\n",
    "Precision and Recall are inversely proportional to each other and thus understanding their differences is \n",
    "important in building an efficient classification system.\n",
    "\n",
    "In Precision, we should consider all positive samples that are classified as positive either correctly or incorrectly.\n",
    "The recall cares about correctly classifying all positive samples. \n",
    "It does not consider if any negative sample is classified as positive."
   ]
  },
  {
   "cell_type": "code",
   "execution_count": null,
   "id": "173b6ddb-69ac-4711-ae2e-7e9ace725eef",
   "metadata": {},
   "outputs": [],
   "source": []
  },
  {
   "cell_type": "code",
   "execution_count": null,
   "id": "cd039a79-2395-45dc-a538-4089fb017564",
   "metadata": {},
   "outputs": [],
   "source": [
    "Q7. How can you interpret a confusion matrix to determine which types of errors your model is making?"
   ]
  },
  {
   "cell_type": "code",
   "execution_count": null,
   "id": "65c59fc6-4317-4689-b90c-04c4aecd3e70",
   "metadata": {},
   "outputs": [],
   "source": [
    "Error rate (ERR) is calculated as the number of all incorrect predictions divided by the total number of the dataset.\n",
    "The best error rate is 0.0, whereas the worst is 1.0. Error rate is calculated as \n",
    "the total number of two incorrect predictions (FN + FP) divided by the total number of a dataset (P + N).\n",
    "\n",
    "Confusion matrices have two types of errors: Type I and Type II.\n",
    "\n",
    "A Type I error can also be considered a false positive, as you are falsely claiming that there \n",
    "is a statistically significant difference between the variables at hand when there, in fact, is not. \n",
    "A Type II error, on the contrary, occurs when you fail to reject the null hypothesis when you should have.\n",
    "\n",
    "Type II error occurs when a Null Hypothesis that is actually false is accepted.\n",
    "This is also referred to as the False Negative Error.\n",
    "\n",
    "False Positive (Type 1 Error) : Model Predicted Person have cancer but in Reality Person don't have Cancer.\n",
    "False Negative(Type 2 Error) :\n",
    "Machine Learning Model Predicted Person Don't have cancer but in Reality the Patient have Cancer ."
   ]
  },
  {
   "cell_type": "code",
   "execution_count": null,
   "id": "30027405-6624-43fc-a5a8-147a746befd5",
   "metadata": {},
   "outputs": [],
   "source": []
  },
  {
   "cell_type": "code",
   "execution_count": null,
   "id": "d11f4a15-d3dc-456d-82bd-ad5acc9954e8",
   "metadata": {},
   "outputs": [],
   "source": [
    "Q8. What are some common metrics that can be derived from a confusion matrix, and how are they \n",
    "calculated?"
   ]
  },
  {
   "cell_type": "code",
   "execution_count": null,
   "id": "b266f267-31de-4e36-a636-3d15e9cf33b4",
   "metadata": {},
   "outputs": [],
   "source": [
    "Confusion matrices can be used to calculate performance metrics for classification models.\n",
    "Of the many performance metrics used, the most common are accuracy, precision, recall, and F1 score.\n",
    "\n",
    "Confusion Matrix Metrics\n",
    "Accuracy. This is simply equal to the proportion of predictions that the model classified correctly.\n",
    "Precision. Precision is also known as positive predictive value and\n",
    "is the proportion of relevant instances among the retrieved instances. ...\n",
    "Recall. ...\n",
    "Specificity. ...\n",
    "F1 Score\n",
    "\n",
    "how are they calculated -\n",
    "\n",
    "Accuracy = (TP+FP)/(TP+FP+FP+FN)\n",
    "\n",
    "Precision = (TP)/(TP+FP)\n",
    "\n",
    "Recall = (TP)/(TP+FN)\n",
    "\n",
    "F1 Score = ( Accuracy * Recall ) / ( Accuracy + Recall )\n",
    "\n",
    "A confusion matrix is a useful machine learning method that allows you to\n",
    "measure recall, precision, accuracy, and AUC-ROC curve. "
   ]
  },
  {
   "cell_type": "code",
   "execution_count": null,
   "id": "d6b70ab3-913d-4786-8fb5-a894853e50bf",
   "metadata": {},
   "outputs": [],
   "source": []
  },
  {
   "cell_type": "code",
   "execution_count": null,
   "id": "28477995-32c8-4941-96bb-9f2ec19d09d0",
   "metadata": {},
   "outputs": [],
   "source": [
    "Q9. What is the relationship between the accuracy of a model and the values in its confusion matrix?"
   ]
  },
  {
   "cell_type": "code",
   "execution_count": null,
   "id": "61aa5014-bd4e-4a6e-84a2-ffd9196f215e",
   "metadata": {},
   "outputs": [],
   "source": [
    "The best accuracy is 1.0, whereas the worst is 0.0. It can also be calculated by 1 – ERR. Accuracy is calculated as \n",
    "the total number of two correct predictions (TP + TN) divided by the total number of a dataset (P + N).\n",
    "\n",
    "Error rate is directly related to accuracy, such that error rate = 1.0 − accuracy \n",
    "(or when expressed as a percentage, error rate = 100 − accuracy)."
   ]
  },
  {
   "cell_type": "code",
   "execution_count": null,
   "id": "7bd1530a-bec0-4f70-9b21-3294d0016b41",
   "metadata": {},
   "outputs": [],
   "source": []
  },
  {
   "cell_type": "code",
   "execution_count": null,
   "id": "c6cd5886-3a77-4d0d-a3dc-cd347ef6b8d7",
   "metadata": {},
   "outputs": [],
   "source": [
    "Q10. How can you use a confusion matrix to identify potential biases or limitations in your machine learning model?"
   ]
  },
  {
   "cell_type": "code",
   "execution_count": null,
   "id": "01bdb229-ff2b-4412-82dc-b6808de2a88f",
   "metadata": {},
   "outputs": [],
   "source": [
    "A confusion matrix presents a table layout of the different outcomes of the \n",
    "prediction and results of a classification problem and helps visualize its outcomes.\n",
    "It plots a table of all the predicted and actual values of a classifier.\n",
    "\n",
    "A confusion matrix is a table that allows you to visualize the performance of a classification model.\n",
    "You can also use the information in it to calculate measures that can help you determine the usefulness of the model.\n",
    "Rows represent predicted classifications, \n",
    "while columns represent the true classes from the data."
   ]
  },
  {
   "cell_type": "code",
   "execution_count": null,
   "id": "63e82430-254a-44ef-b7a3-0fe7e78b4780",
   "metadata": {},
   "outputs": [],
   "source": []
  }
 ],
 "metadata": {
  "kernelspec": {
   "display_name": "Python 3 (ipykernel)",
   "language": "python",
   "name": "python3"
  },
  "language_info": {
   "codemirror_mode": {
    "name": "ipython",
    "version": 3
   },
   "file_extension": ".py",
   "mimetype": "text/x-python",
   "name": "python",
   "nbconvert_exporter": "python",
   "pygments_lexer": "ipython3",
   "version": "3.10.6"
  }
 },
 "nbformat": 4,
 "nbformat_minor": 5
}
